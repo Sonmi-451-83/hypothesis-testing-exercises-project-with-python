{
 "cells": [
  {
   "cell_type": "markdown",
   "id": "d9d036c6",
   "metadata": {},
   "source": [
    "# Problemas de prueba de hipótesis"
   ]
  },
  {
   "cell_type": "markdown",
   "id": "d157c4db",
   "metadata": {},
   "source": [
    "## Ejercicio 1\n",
    "\n",
    "Usted es un nutricionista que investiga dos tipos diferentes de dietas para ver si existe una diferencia significativa en la pérdida de peso después de un mes. Eliges dos grupos aleatorios de personas; un grupo sigue la primera dieta y el otro sigue la segunda. Al final del mes, se registra la pérdida de peso (en kg) de cada persona:\n",
    "\n",
    "| Diet 1 | Diet 2 |\n",
    "|:-------|:-------|\n",
    "| 2.0 | 3.0 |\n",
    "| 2.5 | 3.2 |\n",
    "| 3.0 | 3.1 |\n",
    "| 2.8 | 2.9 |\n",
    "| 2.3 | 2.8 |\n",
    "| 2.7 | 3.0 |\n",
    "| 2.5 | 3.2 |\n",
    "\n",
    "Con estos datos se busca responder a la siguiente pregunta: ¿Existe una diferencia significativa en la pérdida de peso promedio entre las personas que siguieron la primera dieta y las que siguieron la segunda dieta?\n",
    "\n",
    "Para sacar conclusiones, siga los siguientes puntos:\n",
    "\n",
    "-Enunciar la hipótesis: hipótesis nula y alternativa.\n",
    "-Realizar la prueba para comprobar la hipótesis. Puede utilizar la prueba t de Student.\n",
    "-Analizar las conclusiones."
   ]
  },
  {
   "cell_type": "code",
   "execution_count": null,
   "id": "8e0f3cf0",
   "metadata": {},
   "outputs": [
    {
     "name": "stdout",
     "output_type": "stream",
     "text": [
      "La evidencia de los datos es suficientemente fuerte como para rechazar la hipótesis nula H₀, es decir, respaldan la Hipótesis alternativa (H₁).\n",
      "Es muy improbable que la evidencia observada se deba al azar (p-valor=0.004083270191713912).\n"
     ]
    }
   ],
   "source": [
    "from scipy import stats\n",
    "import numpy as np\n",
    "\n",
    "#H_0: las dos dietas provocan la misma diferencia de peso promedio\n",
    "#H_1: las dos dietas provocan una diferencia de peso promedio distinta\n",
    "\n",
    "diet1 = np.array([2.0, 2.5, 3.0, 2.8, 2.3, 2.7, 2.5])\n",
    "diet2 = np.array([3.0, 3.2, 3.1, 2.9, 2.8, 3.0, 3.2])\n",
    "\n",
    "pval = stats.ttest_ind(diet1, diet2).pvalue\n",
    "alpha = 0.05\n",
    "\n",
    "if pval < alpha:\n",
    "    print(\"La evidencia de los datos es suficientemente fuerte como para rechazar la hipótesis nula H₀, es decir, respaldan la Hipótesis alternativa (H₁).\")\n",
    "    print(f\"Es muy improbable que la evidencia observada se deba al azar (p-valor={pval}).\")\n",
    "else:\n",
    "    print(\"No hay suficiente evidencia para rechazar la hipótesis nula H₀, es decir, no hay suficiente evidencia para afirmar que la hipótesis nula es falsa.\")\n",
    "    print(\"Esto no implica que aceptemos H₀, ya que la ausencia de evidencia no es lo mismo que evidencia en su favor.\")\n",
    "    print(f\"Es muy probable que la evidencia observada se deba al azar (p-valor={pval}).\")\n",
    "\n",
    "\n",
    "#Las dietas tuvieron una efectividad distinta, no se pierde el mismo peso promedio con ambas. "
   ]
  },
  {
   "cell_type": "markdown",
   "id": "f432e18e",
   "metadata": {},
   "source": [
    "## ANOVA\n",
    "\n",
    "**ANOVA** (*Analysis of Variance - Análisis de variación*) Es una técnica estadística utilizada para comparar las medidas de dos o más grupos. La idea detrás de ANOVA es descomponer la variabilidad total de los datos en dos componentes: variabilidad entre grupos y variabilidad dentro de los grupos:\n",
    "\n",
    "- **Variabilidad entre grupos**: Esta variabilidad se refiere a las diferencias entre las medias del grupo. Si esta variabilidad es considerablemente mayor que la variabilidad dentro del grupo, podría ser una indicación de que al menos una de las medias del grupo es diferente.\n",
    "- **Variabilidad dentro del grupo**: Esta variabilidad se refiere a la dispersión de los datos dentro de cada grupo. Si todos los grupos tienen una variabilidad similar, entonces cualquier diferencia notable en las medias de los grupos podría considerarse significativa.\n",
    "\n",
    "Las hipótesis en ANOVA suelen incluir:\n",
    "\n",
    "- **Hipótesis nula** ($H₀$): Las medias de todos los grupos son iguales.\n",
    "- **Hipótesis alternativa** ($H₁$): Al menos una de las medias del grupo es diferente.\n",
    "\n",
    "Si el resultado de la prueba ANOVA es significativo (por ejemplo, un valor p inferior a un umbral como 0,05), esto sugiere que al menos la media de un grupo es diferente."
   ]
  },
  {
   "cell_type": "markdown",
   "id": "fc5f3721",
   "metadata": {},
   "source": [
    "## Ejercicio 2\n",
    "\n",
    "Un agricultor decide probar tres tipos diferentes de fertilizantes para determinar si alguno es superior en términos de producción de maíz. El agricultor planta maíz en 15 parcelas idénticas y utiliza los tres fertilizantes (5 parcelas para cada tipo). Al final de la temporada mide el rendimiento de maíz (en kg) de cada parcela, con el siguiente resultado:\n",
    "\n",
    "| Fertilizante 1 | Fertilizante 2 | Fertilizante 3 |\n",
    "|:-------------|:-------------|:-------------|\n",
    "| 20 | 22 | 24 |\n",
    "| 21 | 21 | 23 |\n",
    "| 20 | 23 | 22 |\n",
    "| 19 | 22 | 23 |\n",
    "| 20 | 21 | 24 |\n",
    "\n",
    "Con estos datos busca responder la siguiente pregunta: ¿Existe una diferencia significativa en el rendimiento promedio del maíz entre los tres tipos de fertilizantes?\n",
    "\n",
    "Para ayudarte, sigue los siguientes puntos:\n",
    "\n",
    "-Enunciar la hipótesis: hipótesis nula y alternativa.\n",
    "-Realizar la prueba ANOVA.\n",
    "-Analizar las conclusiones.\n",
    "-Si un fertilizante es mejor que otro, ¿cómo podemos saberlo?"
   ]
  },
  {
   "cell_type": "code",
   "execution_count": null,
   "id": "eecad0ca",
   "metadata": {},
   "outputs": [
    {
     "name": "stdout",
     "output_type": "stream",
     "text": [
      "0.00014047824793190475\n",
      "20.0\n",
      "21.8\n",
      "23.2\n",
      "    Multiple Comparison of Means - Tukey HSD, FWER=0.05     \n",
      "============================================================\n",
      "   group1      group2   meandiff p-adj  lower  upper  reject\n",
      "------------------------------------------------------------\n",
      "fertilizer1 fertilizer2      1.8 0.0099 0.4572 3.1428   True\n",
      "fertilizer1 fertilizer3      3.2 0.0001 1.8572 4.5428   True\n",
      "fertilizer2 fertilizer3      1.4 0.0409 0.0572 2.7428   True\n",
      "------------------------------------------------------------\n"
     ]
    }
   ],
   "source": [
    "from scipy.stats import f_oneway\n",
    "import pandas as pd \n",
    "\n",
    "#H_0: los tres fertilizantes tienen la misma efectividad, y los kg de maiz producidos son muy similares de media.\n",
    "#H_1: los tres fertilizantes NO tienen la misma efectividad, y los kg de maiz producidos son muy similares de media.\n",
    "\n",
    "fertilizer1 = np.array([20, 21, 20, 19, 20])\n",
    "fertilizer2 = np.array([22, 21, 23, 22, 21])\n",
    "fertilizer3 = np.array([24, 23, 22, 23, 24])\n",
    "\n",
    "pvalue_anova = f_oneway(fertilizer1, fertilizer2, fertilizer3).pvalue\n",
    "\n",
    "print(pvalue_anova)\n",
    "\n",
    "'''\n",
    "El pvalue es menor de 0.05, lo que respalda la hipótesis alternativa, es decir, que la media de al menos dos de los tres grupos es distinta, \n",
    "y por lo tanto no todos los fertilizantes tienen la misma efectividad.\n",
    "'''\n",
    "\n",
    "print(np.mean(fertilizer1))\n",
    "print(np.mean(fertilizer2))\n",
    "print(np.mean(fertilizer3))\n",
    "\n",
    "import statsmodels.stats.multicomp as mc\n",
    "\n",
    "data = pd.DataFrame({\n",
    "    'Group': np.repeat(['fertilizer1', 'fertilizer2', 'fertilizer3'], 5),\n",
    "    'Value': np.concatenate([fertilizer1, fertilizer2, fertilizer3])\n",
    "})\n",
    "\n",
    "# Pairwise t-tests\n",
    "comp = mc.MultiComparison(data['Value'], data['Group'])\n",
    "post_hoc_res = comp.tukeyhsd()\n",
    "print(post_hoc_res)\n",
    "\n",
    "'''\n",
    "Se puede observar de la tabla que el mejor fertilizante es el tercero, y el peor el primero\n",
    "'''"
   ]
  }
 ],
 "metadata": {
  "kernelspec": {
   "display_name": "Python 3",
   "language": "python",
   "name": "python3"
  },
  "language_info": {
   "codemirror_mode": {
    "name": "ipython",
    "version": 3
   },
   "file_extension": ".py",
   "mimetype": "text/x-python",
   "name": "python",
   "nbconvert_exporter": "python",
   "pygments_lexer": "ipython3",
   "version": "3.11.4"
  }
 },
 "nbformat": 4,
 "nbformat_minor": 5
}
